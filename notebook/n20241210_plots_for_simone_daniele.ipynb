{
 "cells": [
  {
   "cell_type": "code",
   "execution_count": 8,
   "metadata": {},
   "outputs": [
    {
     "name": "stdout",
     "output_type": "stream",
     "text": [
      "Second Line: 1711368931430\n",
      "Last Line: 1711376131589\n"
     ]
    },
    {
     "data": {
      "text/plain": [
       "7200.159"
      ]
     },
     "execution_count": 8,
     "metadata": {},
     "output_type": "execute_result"
    }
   ],
   "source": [
    "def read_second_and_second_last_line(file_path):\n",
    "    second_line = None\n",
    "    second_last_line = None\n",
    "\n",
    "    with open(file_path, 'rb') as f:\n",
    "        # Read the second line\n",
    "        f.readline()  # Skip the first line\n",
    "        second_line = f.readline().decode('utf-8')  # Read the second line\n",
    "\n",
    "        # Read the second-to-last line efficiently by seeking backwards\n",
    "        f.seek(0, 2)  # Move to the end of the file\n",
    "        position = f.tell() - 1\n",
    "\n",
    "        lines = []\n",
    "        while position >= 0:\n",
    "            f.seek(position)\n",
    "            char = f.read(1)\n",
    "            if char == b'\\n':\n",
    "                line = f.readline().decode('utf-8')\n",
    "                lines.append(line.strip())\n",
    "                if len(lines) == 2:\n",
    "                    break\n",
    "                position -= len(line) + 1  # Adjust position to skip the current line\n",
    "            else:\n",
    "                position -= 1\n",
    "\n",
    "        if len(lines) >= 2:\n",
    "            second_last_line = lines[1]  # Second-to-last line is the second line in the list\n",
    "        elif len(lines) == 1:\n",
    "            second_last_line = lines[0]  # Handle case where file has only two lines\n",
    "\n",
    "    return second_line.strip(), second_last_line.strip()\n",
    "\n",
    "# Example usage\n",
    "file_path = 'C:\\\\Users\\\\Admin\\\\OneDrive - Politecnico di Milano\\\\phd\\\\dati\\\\hawkes\\\\orderbook_changes\\\\BTC_USDT\\\\orderbook_changes_1711376131589.tsv'\n",
    "second, last = read_second_and_second_last_line(file_path)\n",
    "second_line_last_element = second.split('\\t')[-1] if second else None\n",
    "second_last_line_last_element = last.split('\\t')[-1] if last else None\n",
    "\n",
    "print(f\"Second Line: {second_line_last_element}\")\n",
    "print(f\"Last Line: {second_last_line_last_element}\")\n",
    "(int(second_last_line_last_element) - int(second_line_last_element)) / 1000"
   ]
  },
  {
   "cell_type": "code",
   "execution_count": 14,
   "metadata": {},
   "outputs": [
    {
     "name": "stdout",
     "output_type": "stream",
     "text": [
      "Skipping file due to conversion error: C:\\\\Users\\\\Admin\\\\OneDrive - Politecnico di Milano\\\\phd\\\\dati\\\\hawkes\\\\orderbook_changes\\\\BTC_USD\\best_densities_full.csv\n",
      "Skipping file due to conversion error: C:\\\\Users\\\\Admin\\\\OneDrive - Politecnico di Milano\\\\phd\\\\dati\\\\hawkes\\\\orderbook_changes\\\\BTC_USD\\orderbook_changes_1706072225472.tsv\n",
      "Skipping file due to conversion error: C:\\\\Users\\\\Admin\\\\OneDrive - Politecnico di Milano\\\\phd\\\\dati\\\\hawkes\\\\orderbook_changes\\\\BTC_USDT\\best_densities_full.csv\n",
      "Skipping file due to conversion error: C:\\\\Users\\\\Admin\\\\OneDrive - Politecnico di Milano\\\\phd\\\\dati\\\\hawkes\\\\orderbook_changes\\\\ETH_BTC\\best_densities_full.csv\n",
      "Skipping file due to conversion error: C:\\\\Users\\\\Admin\\\\OneDrive - Politecnico di Milano\\\\phd\\\\dati\\\\hawkes\\\\orderbook_changes\\\\ETH_USD\\best_densities_full.csv\n",
      "Skipping file due to conversion error: C:\\\\Users\\\\Admin\\\\OneDrive - Politecnico di Milano\\\\phd\\\\dati\\\\hawkes\\\\orderbook_changes\\\\ETH_USD\\orderbook_changes_1712091111010.tsv\n",
      "Skipping file due to conversion error: C:\\\\Users\\\\Admin\\\\OneDrive - Politecnico di Milano\\\\phd\\\\dati\\\\hawkes\\\\orderbook_changes\\\\ETH_USD\\orderbook_changes_1712800342518.tsv\n",
      "Skipping file due to conversion error: C:\\\\Users\\\\Admin\\\\OneDrive - Politecnico di Milano\\\\phd\\\\dati\\\\hawkes\\\\orderbook_changes\\\\ETH_USDT\\best_densities_full.csv\n"
     ]
    },
    {
     "data": {
      "text/html": [
       "<div>\n",
       "<style scoped>\n",
       "    .dataframe tbody tr th:only-of-type {\n",
       "        vertical-align: middle;\n",
       "    }\n",
       "\n",
       "    .dataframe tbody tr th {\n",
       "        vertical-align: top;\n",
       "    }\n",
       "\n",
       "    .dataframe thead th {\n",
       "        text-align: right;\n",
       "    }\n",
       "</style>\n",
       "<table border=\"1\" class=\"dataframe\">\n",
       "  <thead>\n",
       "    <tr style=\"text-align: right;\">\n",
       "      <th></th>\n",
       "      <th>Subfolder</th>\n",
       "      <th>Difference</th>\n",
       "    </tr>\n",
       "  </thead>\n",
       "  <tbody>\n",
       "    <tr>\n",
       "      <th>0</th>\n",
       "      <td>BTC_USD</td>\n",
       "      <td>185.396047</td>\n",
       "    </tr>\n",
       "    <tr>\n",
       "      <th>1</th>\n",
       "      <td>BTC_USDT</td>\n",
       "      <td>83.807867</td>\n",
       "    </tr>\n",
       "    <tr>\n",
       "      <th>2</th>\n",
       "      <td>ETH_BTC</td>\n",
       "      <td>77.285383</td>\n",
       "    </tr>\n",
       "    <tr>\n",
       "      <th>3</th>\n",
       "      <td>ETH_USD</td>\n",
       "      <td>84.945911</td>\n",
       "    </tr>\n",
       "    <tr>\n",
       "      <th>4</th>\n",
       "      <td>ETH_USDT</td>\n",
       "      <td>80.091459</td>\n",
       "    </tr>\n",
       "  </tbody>\n",
       "</table>\n",
       "</div>"
      ],
      "text/plain": [
       "  Subfolder  Difference\n",
       "0   BTC_USD  185.396047\n",
       "1  BTC_USDT   83.807867\n",
       "2   ETH_BTC   77.285383\n",
       "3   ETH_USD   84.945911\n",
       "4  ETH_USDT   80.091459"
      ]
     },
     "execution_count": 14,
     "metadata": {},
     "output_type": "execute_result"
    }
   ],
   "source": [
    "import os\n",
    "import pandas as pd\n",
    "\n",
    "def get_last_elements_of_second_and_second_last_lines(file_path):\n",
    "    \"\"\"Extract the last elements of the second line and second-to-last line of a file.\"\"\"\n",
    "    second_line = None\n",
    "    second_last_line = None\n",
    "\n",
    "    with open(file_path, 'rb') as f:\n",
    "        # Read the second line\n",
    "        f.readline()  # Skip the first line\n",
    "        second_line = f.readline().decode('utf-8').strip()  # Read and decode the second line\n",
    "\n",
    "        # Read the second-to-last line efficiently by seeking backwards\n",
    "        f.seek(0, 2)  # Move to the end of the file\n",
    "        position = f.tell() - 1\n",
    "\n",
    "        lines = []\n",
    "        while position >= 0:\n",
    "            f.seek(position)\n",
    "            char = f.read(1)\n",
    "            if char == b'\\n':\n",
    "                line = f.readline().decode('utf-8').strip()\n",
    "                lines.append(line)\n",
    "                if len(lines) == 2:\n",
    "                    break\n",
    "                position -= len(line) + 1  # Move the position back by the line length\n",
    "            else:\n",
    "                position -= 1\n",
    "\n",
    "        if len(lines) >= 2:\n",
    "            second_last_line = lines[1]\n",
    "        elif len(lines) == 1:\n",
    "            second_last_line = lines[0]  # Handle case where file has only two lines\n",
    "\n",
    "    # Extract the last element from each line (split by tabs)\n",
    "    second_line_last_element = second_line.split('\\t')[-1] if second_line else None\n",
    "    second_last_line_last_element = second_last_line.split('\\t')[-1] if second_last_line else None\n",
    "\n",
    "    return second_line_last_element, second_last_line_last_element\n",
    "\n",
    "def process_files_in_subfolders(base_path):\n",
    "    \"\"\"Traverse subfolders, process files, and return a DataFrame with differences.\"\"\"\n",
    "    data = []\n",
    "\n",
    "    # Walk through the base directory\n",
    "    for root, dirs, files in os.walk(base_path):\n",
    "        for file in files:\n",
    "            file_path = os.path.join(root, file)\n",
    "            subfolder_name = os.path.basename(root)\n",
    "\n",
    "            # Extract last elements from second and second-to-last lines\n",
    "            second_last_element, second_last_line_element = get_last_elements_of_second_and_second_last_lines(file_path)\n",
    "            \n",
    "            # Convert to integers and compute the difference if both elements are present\n",
    "            try:\n",
    "                if second_last_element is not None and second_last_line_element is not None:\n",
    "                    diff = (int(second_last_line_element) - int(second_last_element)) / 1000 / 3600\n",
    "                    data.append({'Subfolder': subfolder_name, 'Difference': diff})\n",
    "            except ValueError:\n",
    "                # Skip files where conversion to integer fails\n",
    "                print(f\"Skipping file due to conversion error: {file_path}\")\n",
    "\n",
    "    # Create a DataFrame\n",
    "    df = pd.DataFrame(data)\n",
    "    return df\n",
    "\n",
    "# Specify the path\n",
    "base_path = r\"C:\\\\Users\\\\Admin\\\\OneDrive - Politecnico di Milano\\\\phd\\\\dati\\\\hawkes\\\\orderbook_changes\\\\\"\n",
    "\n",
    "# Process the files and generate the DataFrame\n",
    "df = process_files_in_subfolders(base_path)\n",
    "\n",
    "# Display the DataFrame\n",
    "df = df.groupby('Subfolder').sum().reset_index()\n",
    "df"
   ]
  },
  {
   "cell_type": "code",
   "execution_count": 20,
   "metadata": {},
   "outputs": [
    {
     "data": {
      "text/plain": [
       "(array([  0.,  25.,  50.,  75., 100., 125., 150., 175., 200.]),\n",
       " [Text(0, 0.0, '0'),\n",
       "  Text(0, 25.0, '25'),\n",
       "  Text(0, 50.0, '50'),\n",
       "  Text(0, 75.0, '75'),\n",
       "  Text(0, 100.0, '100'),\n",
       "  Text(0, 125.0, '125'),\n",
       "  Text(0, 150.0, '150'),\n",
       "  Text(0, 175.0, '175'),\n",
       "  Text(0, 200.0, '200')])"
      ]
     },
     "execution_count": 20,
     "metadata": {},
     "output_type": "execute_result"
    },
    {
     "data": {
      "image/png": "[encoded data removed]",
      "text/plain": [
       "<Figure size 640x480 with 1 Axes>"
      ]
     },
     "metadata": {},
     "output_type": "display_data"
    }
   ],
   "source": [
    "import seaborn as sns\n",
    "import matplotlib.pyplot as plt\n",
    "\n",
    "sns.barplot(x='Subfolder', y='Difference', data=df.sort_values('Difference', ascending=False))\n",
    "plt.xlabel('')\n",
    "plt.ylabel('Total hours registered', fontsize=14)\n",
    "# increase the font size\n",
    "plt.xticks(fontsize=12)\n",
    "plt.yticks(fontsize=12)\n"
   ]
  },
  {
   "cell_type": "code",
   "execution_count": null,
   "metadata": {},
   "outputs": [],
   "source": []
  }
 ],
 "metadata": {
  "kernelspec": {
   "display_name": "feedback_finance",
   "language": "python",
   "name": "python3"
  },
  "language_info": {
   "codemirror_mode": {
    "name": "ipython",
    "version": 3
   },
   "file_extension": ".py",
   "mimetype": "text/x-python",
   "name": "python",
   "nbconvert_exporter": "python",
   "pygments_lexer": "ipython3",
   "version": "3.12.3"
  }
 },
 "nbformat": 4,
 "nbformat_minor": 2
}
