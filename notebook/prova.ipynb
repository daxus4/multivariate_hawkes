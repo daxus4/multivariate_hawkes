{
 "cells": [
  {
   "cell_type": "code",
   "execution_count": 1,
   "metadata": {},
   "outputs": [],
   "source": [
    "from typing import Dict, List, Optional\n",
    "\n",
    "import numpy as np\n",
    "\n",
    "\n",
    "class EventTypeTimesMapsFormatter:\n",
    "\n",
    "    def get_events_types_periods(\n",
    "        self,\n",
    "        event_type_times_maps: List[Dict[str, np.ndarray]],\n",
    "        event_types_ordered: Optional[List[str]] = None,\n",
    "    ) -> List[List[np.ndarray]]:\n",
    "        if event_types_ordered is None:\n",
    "            event_types_ordered = list(event_type_times_maps[0].keys())\n",
    "\n",
    "        event_types_periods = list()\n",
    "\n",
    "        for event_type_times_map in event_type_times_maps:\n",
    "            events_types_period = list()\n",
    "\n",
    "            for event_type in event_types_ordered:\n",
    "                events_types_period.append(event_type_times_map[event_type])\n",
    "\n",
    "            event_types_periods.append(events_types_period)\n",
    "\n",
    "        return event_types_periods\n",
    "\n",
    "event_type_times_maps = [\n",
    "    {\n",
    "        \"event_type_1\": np.array([1, 2, 3]),\n",
    "        \"event_type_2\": np.array([4, 5, 6]),\n",
    "    },\n",
    "    {\n",
    "        \"event_type_1\": np.array([7, 8, 9]),\n",
    "        \"event_type_2\": np.array([10, 11, 12]),\n",
    "    },\n",
    "]\n",
    "\n",
    "event_type_times_map_formatter = EventTypeTimesMapsFormatter()\n",
    "\n",
    "event_type_times_formatted = event_type_times_map_formatter.get_events_types_periods(\n",
    "    event_type_times_maps\n",
    ")\n"
   ]
  },
  {
   "cell_type": "code",
   "execution_count": 2,
   "metadata": {},
   "outputs": [
    {
     "data": {
      "text/plain": [
       "[[array([1, 2, 3]), array([4, 5, 6])], [array([7, 8, 9]), array([10, 11, 12])]]"
      ]
     },
     "execution_count": 2,
     "metadata": {},
     "output_type": "execute_result"
    }
   ],
   "source": [
    "event_type_times_formatted"
   ]
  },
  {
   "cell_type": "code",
   "execution_count": 3,
   "metadata": {},
   "outputs": [
    {
     "data": {
      "text/plain": [
       "array([0.  , 0.04, 0.07])"
      ]
     },
     "execution_count": 3,
     "metadata": {},
     "output_type": "execute_result"
    }
   ],
   "source": [
    "np.array([0, 4, 7]) / 100"
   ]
  },
  {
   "cell_type": "code",
   "execution_count": 4,
   "metadata": {},
   "outputs": [],
   "source": [
    "import numpy as np\n",
    "\n",
    "data = [\n",
    "    {'a': np.array([1, 2, 3]), 'b': np.array([4, 5, 6]), 'c': np.array([7, 8, 9])},\n",
    "    {'a': np.array([10, 11, 12]), 'b': np.array([13, 14, 15]), 'c': np.array([16, 17, 18])},\n",
    "    {'a': np.array([19, 20, 21]), 'b': np.array([22, 23, 24]), 'c': np.array([25, 26, 27])}\n",
    "]\n"
   ]
  },
  {
   "cell_type": "code",
   "execution_count": 5,
   "metadata": {},
   "outputs": [
    {
     "name": "stdout",
     "output_type": "stream",
     "text": [
      "Dict 1: {'a': array([1, 2, 3]), 'c': array([7, 8, 9])}\n",
      "Dict 2: {'a': array([10, 11, 12]), 'c': array([16, 17, 18])}\n",
      "Dict 3: {'a': array([19, 20, 21]), 'c': array([25, 26, 27])}\n"
     ]
    }
   ],
   "source": [
    "keys_to_keep = ['a', 'c']\n",
    "\n",
    "# Filtered list of dictionaries\n",
    "filtered_data = [{k: v for k, v in d.items() if k in keys_to_keep} for d in data]\n",
    "\n",
    "# Display the result\n",
    "for i, d in enumerate(filtered_data):\n",
    "    print(f\"Dict {i+1}: {d}\")\n"
   ]
  },
  {
   "cell_type": "code",
   "execution_count": 3,
   "metadata": {},
   "outputs": [
    {
     "ename": "FileNotFoundError",
     "evalue": "[Errno 2] No such file or directory: 'matrix.yml'",
     "output_type": "error",
     "traceback": [
      "\u001b[1;31m---------------------------------------------------------------------------\u001b[0m",
      "\u001b[1;31mFileNotFoundError\u001b[0m                         Traceback (most recent call last)",
      "\u001b[1;32m~\\AppData\\Local\\Temp\\ipykernel_7860\\287185371.py\u001b[0m in \u001b[0;36m<module>\u001b[1;34m\u001b[0m\n\u001b[0;32m      1\u001b[0m \u001b[1;32mimport\u001b[0m \u001b[0myaml\u001b[0m\u001b[1;33m\u001b[0m\u001b[1;33m\u001b[0m\u001b[0m\n\u001b[0;32m      2\u001b[0m \u001b[1;33m\u001b[0m\u001b[0m\n\u001b[1;32m----> 3\u001b[1;33m \u001b[1;32mwith\u001b[0m \u001b[0mopen\u001b[0m\u001b[1;33m(\u001b[0m\u001b[1;34m'matrix.yml'\u001b[0m\u001b[1;33m,\u001b[0m \u001b[1;34m'r'\u001b[0m\u001b[1;33m)\u001b[0m \u001b[1;32mas\u001b[0m \u001b[0mfile\u001b[0m\u001b[1;33m:\u001b[0m\u001b[1;33m\u001b[0m\u001b[1;33m\u001b[0m\u001b[0m\n\u001b[0m\u001b[0;32m      4\u001b[0m     \u001b[0mdata\u001b[0m \u001b[1;33m=\u001b[0m \u001b[0myaml\u001b[0m\u001b[1;33m.\u001b[0m\u001b[0msafe_load\u001b[0m\u001b[1;33m(\u001b[0m\u001b[0mfile\u001b[0m\u001b[1;33m)\u001b[0m\u001b[1;33m\u001b[0m\u001b[1;33m\u001b[0m\u001b[0m\n",
      "\u001b[1;31mFileNotFoundError\u001b[0m: [Errno 2] No such file or directory: 'matrix.yml'"
     ]
    }
   ],
   "source": [
    "import yaml\n",
    "\n",
    "with open('matrix.yml', 'r') as file:\n",
    "    data = yaml.safe_load(file)\n"
   ]
  },
  {
   "cell_type": "code",
   "execution_count": null,
   "metadata": {},
   "outputs": [],
   "source": [
    "data"
   ]
  }
 ],
 "metadata": {
  "kernelspec": {
   "display_name": "feedback_finance",
   "language": "python",
   "name": "python3"
  },
  "language_info": {
   "codemirror_mode": {
    "name": "ipython",
    "version": 3
   },
   "file_extension": ".py",
   "mimetype": "text/x-python",
   "name": "python",
   "nbconvert_exporter": "python",
   "pygments_lexer": "ipython3",
   "version": "3.7.12"
  }
 },
 "nbformat": 4,
 "nbformat_minor": 2
}
