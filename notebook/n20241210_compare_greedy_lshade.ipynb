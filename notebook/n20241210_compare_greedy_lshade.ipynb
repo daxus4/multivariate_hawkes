{
 "cells": [
  {
   "cell_type": "code",
   "execution_count": 4,
   "metadata": {},
   "outputs": [],
   "source": [
    "import pandas as pd\n",
    "import matplotlib.pyplot as plt\n",
    "import seaborn as sns\n",
    "from pathlib import Path\n",
    "\n",
    "SIMULATION_FOLDER = \"C:\\\\Users\\\\Admin\\\\OneDrive - Politecnico di Milano\\\\phd\\\\code\\\\multivariate_hawkes\\\\data\\\\simulations\\\\multivariate_hawkes\\\\BTC_USD\""
   ]
  },
  {
   "cell_type": "code",
   "execution_count": 13,
   "metadata": {},
   "outputs": [
    {
     "data": {
      "text/plain": [
       "[WindowsPath('C:/Users/Admin/OneDrive - Politecnico di Milano/phd/code/multivariate_hawkes/data/simulations/multivariate_hawkes/BTC_USD/lshade_logged_training_time_900/simulation_seconds_120'),\n",
       " WindowsPath('C:/Users/Admin/OneDrive - Politecnico di Milano/phd/code/multivariate_hawkes/data/simulations/multivariate_hawkes/BTC_USD/training_time_900/simulation_seconds_120')]"
      ]
     },
     "execution_count": 13,
     "metadata": {},
     "output_type": "execute_result"
    }
   ],
   "source": [
    "path = Path(SIMULATION_FOLDER)\n",
    "method_simulation_subdirs = [\n",
    "    d\n",
    "    for d in path.rglob(\"\")\n",
    "    if d.is_dir()\n",
    "    and not any(child.is_dir() for child in d.iterdir())\n",
    "    and \"900\" in d.parts[-2]\n",
    "]\n",
    "method_simulation_subdirs"
   ]
  },
  {
   "cell_type": "code",
   "execution_count": 17,
   "metadata": {},
   "outputs": [
    {
     "name": "stderr",
     "output_type": "stream",
     "text": [
      "C:\\Users\\Admin\\AppData\\Local\\Temp\\ipykernel_9988\\3528316406.py:19: FutureWarning: The behavior of DataFrame concatenation with empty or all-NA entries is deprecated. In a future version, this will no longer exclude empty or all-NA columns when determining the result dtypes. To retain the old behavior, exclude the relevant entries before the concat operation.\n",
      "  df = pd.concat(dfs)\n"
     ]
    },
    {
     "data": {
      "text/html": [
       "<div>\n",
       "<style scoped>\n",
       "    .dataframe tbody tr th:only-of-type {\n",
       "        vertical-align: middle;\n",
       "    }\n",
       "\n",
       "    .dataframe tbody tr th {\n",
       "        vertical-align: top;\n",
       "    }\n",
       "\n",
       "    .dataframe thead th {\n",
       "        text-align: right;\n",
       "    }\n",
       "</style>\n",
       "<table border=\"1\" class=\"dataframe\">\n",
       "  <thead>\n",
       "    <tr style=\"text-align: right;\">\n",
       "      <th></th>\n",
       "      <th>real</th>\n",
       "      <th>predicted</th>\n",
       "      <th>error</th>\n",
       "      <th>method</th>\n",
       "      <th>pair</th>\n",
       "      <th>param</th>\n",
       "      <th>method_param</th>\n",
       "    </tr>\n",
       "  </thead>\n",
       "  <tbody>\n",
       "    <tr>\n",
       "      <th>0</th>\n",
       "      <td>0.029</td>\n",
       "      <td>6.790468</td>\n",
       "      <td>6.761468</td>\n",
       "      <td>lshade</td>\n",
       "      <td>BTC_USD</td>\n",
       "      <td>900</td>\n",
       "      <td>lshade_900</td>\n",
       "    </tr>\n",
       "    <tr>\n",
       "      <th>1</th>\n",
       "      <td>0.242</td>\n",
       "      <td>9.279054</td>\n",
       "      <td>9.037054</td>\n",
       "      <td>lshade</td>\n",
       "      <td>BTC_USD</td>\n",
       "      <td>900</td>\n",
       "      <td>lshade_900</td>\n",
       "    </tr>\n",
       "    <tr>\n",
       "      <th>2</th>\n",
       "      <td>0.461</td>\n",
       "      <td>0.631230</td>\n",
       "      <td>0.170230</td>\n",
       "      <td>lshade</td>\n",
       "      <td>BTC_USD</td>\n",
       "      <td>900</td>\n",
       "      <td>lshade_900</td>\n",
       "    </tr>\n",
       "    <tr>\n",
       "      <th>3</th>\n",
       "      <td>0.677</td>\n",
       "      <td>0.778668</td>\n",
       "      <td>0.101668</td>\n",
       "      <td>lshade</td>\n",
       "      <td>BTC_USD</td>\n",
       "      <td>900</td>\n",
       "      <td>lshade_900</td>\n",
       "    </tr>\n",
       "    <tr>\n",
       "      <th>4</th>\n",
       "      <td>0.894</td>\n",
       "      <td>0.953389</td>\n",
       "      <td>0.059389</td>\n",
       "      <td>lshade</td>\n",
       "      <td>BTC_USD</td>\n",
       "      <td>900</td>\n",
       "      <td>lshade_900</td>\n",
       "    </tr>\n",
       "  </tbody>\n",
       "</table>\n",
       "</div>"
      ],
      "text/plain": [
       "    real  predicted     error  method     pair param method_param\n",
       "0  0.029   6.790468  6.761468  lshade  BTC_USD   900   lshade_900\n",
       "1  0.242   9.279054  9.037054  lshade  BTC_USD   900   lshade_900\n",
       "2  0.461   0.631230  0.170230  lshade  BTC_USD   900   lshade_900\n",
       "3  0.677   0.778668  0.101668  lshade  BTC_USD   900   lshade_900\n",
       "4  0.894   0.953389  0.059389  lshade  BTC_USD   900   lshade_900"
      ]
     },
     "execution_count": 17,
     "metadata": {},
     "output_type": "execute_result"
    }
   ],
   "source": [
    "path = Path(SIMULATION_FOLDER)\n",
    "method_simulation_subdirs = [\n",
    "    d\n",
    "    for d in path.rglob(\"\")\n",
    "    if d.is_dir()\n",
    "    and not any(child.is_dir() for child in d.iterdir())\n",
    "    and \"900\" in d.parts[-2]\n",
    "]\n",
    "\n",
    "dfs_list = []\n",
    "for method_simulation_subdir in method_simulation_subdirs:\n",
    "    params = method_simulation_subdir.parts[-4:-1]\n",
    "\n",
    "    dfs = []\n",
    "    for file in list(method_simulation_subdir.glob(\"orderbook_changes_*.tsv\")):\n",
    "        df = pd.read_csv(file, sep=\"\\t\")\n",
    "        dfs.append(df)\n",
    "\n",
    "    df = pd.concat(dfs)\n",
    "    df[\"error\"] = (df[\"real\"] - df[\"predicted\"]).abs()\n",
    "    df[\"method\"] = \"lshade\" if \"lshade\" in str(method_simulation_subdir) else \"greedy\"\n",
    "    df[\"pair\"] = params[1]\n",
    "    df[\"param\"] = params[2][-3:]\n",
    "\n",
    "    dfs_list.append(df)\n",
    "\n",
    "df = pd.concat(dfs_list)\n",
    "df[\"method_param\"] = df[\"method\"] + \"_\" + df[\"param\"]\n",
    "df = df.reset_index(drop=True)\n",
    "df.head()"
   ]
  },
  {
   "cell_type": "code",
   "execution_count": 18,
   "metadata": {},
   "outputs": [
    {
     "data": {
      "text/plain": [
       "<Axes: xlabel='param', ylabel='error'>"
      ]
     },
     "execution_count": 18,
     "metadata": {},
     "output_type": "execute_result"
    },
    {
     "data": {
      "image/png": "[encoded data removed]",
      "text/plain": [
       "<Figure size 640x480 with 1 Axes>"
      ]
     },
     "metadata": {},
     "output_type": "display_data"
    }
   ],
   "source": [
    "sns.boxplot(x=\"param\", y=\"error\", data=df, hue=\"method\")"
   ]
  },
  {
   "cell_type": "code",
   "execution_count": 19,
   "metadata": {},
   "outputs": [
    {
     "data": {
      "text/plain": [
       "<Axes: xlabel='param', ylabel='error'>"
      ]
     },
     "execution_count": 19,
     "metadata": {},
     "output_type": "execute_result"
    },
    {
     "data": {
      "image/png": "[encoded data removed]",
      "text/plain": [
       "<Figure size 640x480 with 1 Axes>"
      ]
     },
     "metadata": {},
     "output_type": "display_data"
    }
   ],
   "source": [
    "sns.boxplot(x=\"param\", y=\"error\", data=df, hue=\"method\", showfliers=False)"
   ]
  }
 ],
 "metadata": {
  "kernelspec": {
   "display_name": "lshade",
   "language": "python",
   "name": "python3"
  },
  "language_info": {
   "codemirror_mode": {
    "name": "ipython",
    "version": 3
   },
   "file_extension": ".py",
   "mimetype": "text/x-python",
   "name": "python",
   "nbconvert_exporter": "python",
   "pygments_lexer": "ipython3",
   "version": "3.12.8"
  }
 },
 "nbformat": 4,
 "nbformat_minor": 2
}
