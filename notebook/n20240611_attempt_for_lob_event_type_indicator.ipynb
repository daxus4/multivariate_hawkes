{
 "cells": [
  {
   "cell_type": "code",
   "execution_count": 1,
   "metadata": {},
   "outputs": [],
   "source": [
    "import os\n",
    "import pandas as pd\n",
    "\n",
    "os.chdir('C:\\\\Users\\\\Admin\\\\Desktop\\\\phd\\\\multivariate_hawkes\\\\src')\n",
    "\n",
    "from lob_event_type_indicator import LOBEventTypeIndicator\n",
    "\n",
    "LOB_DATASET_PATH = 'C:\\\\Users\\\\Admin\\\\Desktop\\\\phd\\\\hawkes_coe\\\\bitfinex_orderbook_live\\\\data_ETH_USDT\\\\orderbook_changes\\\\orderbook_changes_1713134311467.tsv'\n",
    "num_levels_in_a_side = 20\n",
    "num_levels_for_which_save_events = 4"
   ]
  },
  {
   "cell_type": "code",
   "execution_count": 4,
   "metadata": {},
   "outputs": [
    {
     "data": {
      "text/plain": [
       "{<LOBEventType.ASK_MARKET_ORDER_CHANGER: 10>: array([2])}"
      ]
     },
     "execution_count": 4,
     "metadata": {},
     "output_type": "execute_result"
    }
   ],
   "source": [
    "df = pd.DataFrame({\n",
    "    'timestamp' : [1,2],\n",
    "\n",
    "    'ask_size_1': [50,50],\n",
    "    'bid_size_1': [50,50],\n",
    "    'ask_price_1': [4,5],\n",
    "    'bid_price_1': [3,3],\n",
    "\n",
    "    'ask_size_2': [50,50],\n",
    "    'bid_size_2': [50,50],\n",
    "    'ask_price_2': [5, 6],\n",
    "    'bid_price_2': [3,3],\n",
    "\n",
    "})\n",
    "\n",
    "df = df.astype(str)\n",
    "lob_type_event_indicator = LOBEventTypeIndicator(df, 2, 2)\n",
    "lob_type_event_indicator.get_lob_event_type_times_map()"
   ]
  },
  {
   "cell_type": "code",
   "execution_count": 5,
   "metadata": {},
   "outputs": [
    {
     "data": {
      "text/plain": [
       "{<LOBEventType.ASK_MARKET_ORDER_NOT_CHANGER: 12>: array([2]),\n",
       " <LOBEventType.ASK_CANCELLED_ORDER_NOT_CHANGER: 16>: array([2])}"
      ]
     },
     "execution_count": 5,
     "metadata": {},
     "output_type": "execute_result"
    }
   ],
   "source": [
    "df = pd.DataFrame({\n",
    "    'timestamp' : [1,2],\n",
    "\n",
    "    'ask_size_1': [50,47],\n",
    "    'bid_size_1': [50,50],\n",
    "    'ask_price_1': [4,4],\n",
    "    'bid_price_1': [3,3],\n",
    "\n",
    "    'ask_size_2': [50,50],\n",
    "    'bid_size_2': [50,50],\n",
    "    'ask_price_2': [5,6],\n",
    "    'bid_price_2': [3,3],\n",
    "\n",
    "})\n",
    "\n",
    "df = df.astype(str)\n",
    "lob_type_event_indicator = LOBEventTypeIndicator(df, 2, 2)\n",
    "lob_type_event_indicator.get_lob_event_type_times_map()"
   ]
  },
  {
   "cell_type": "code",
   "execution_count": 7,
   "metadata": {},
   "outputs": [
    {
     "data": {
      "text/plain": [
       "{<LOBEventType.ASK_LIMIT_ORDER_CHANGER: 6>: array([2]),\n",
       " <LOBEventType.ASK_LIMIT_ORDER_NOT_CHANGER: 8>: array([2])}"
      ]
     },
     "execution_count": 7,
     "metadata": {},
     "output_type": "execute_result"
    }
   ],
   "source": [
    "df = pd.DataFrame({\n",
    "    'timestamp' : [1,2],\n",
    "\n",
    "    'ask_size_1': [50,50],\n",
    "    'bid_size_1': [50,50],\n",
    "    'ask_price_1': [6,4],\n",
    "    'bid_price_1': [3,3],\n",
    "\n",
    "    'ask_size_2': [50,50],\n",
    "    'bid_size_2': [50,50],\n",
    "    'ask_price_2': [7,5],\n",
    "    'bid_price_2': [3,3],\n",
    "\n",
    "})\n",
    "\n",
    "df = df.astype(str)\n",
    "lob_type_event_indicator = LOBEventTypeIndicator(df, 2, 2)\n",
    "lob_type_event_indicator.get_lob_event_type_times_map()"
   ]
  }
 ],
 "metadata": {
  "kernelspec": {
   "display_name": "feedback_finance",
   "language": "python",
   "name": "python3"
  },
  "language_info": {
   "codemirror_mode": {
    "name": "ipython",
    "version": 3
   },
   "file_extension": ".py",
   "mimetype": "text/x-python",
   "name": "python",
   "nbconvert_exporter": "python",
   "pygments_lexer": "ipython3",
   "version": "3.12.3"
  }
 },
 "nbformat": 4,
 "nbformat_minor": 2
}
