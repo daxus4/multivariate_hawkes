{
 "cells": [
  {
   "cell_type": "code",
   "execution_count": 1,
   "metadata": {},
   "outputs": [],
   "source": [
    "import pandas as pd\n",
    "import os\n",
    "\n",
    "os.chdir('C:\\\\Users\\\\Admin\\\\Desktop\\\\phd\\\\multivariate_hawkes\\\\src')\n",
    "\n",
    "from lob_event_type_indicator import LOBEventTypeIndicator\n",
    "from lob_event_type import LOBEventType\n",
    "num_levels_in_a_side = 10\n",
    "num_levels_for_which_save_events = 4\n",
    "\n",
    "LOB_DF_PATH = 'C:\\\\Users\\\\Admin\\\\OneDrive - Politecnico di Milano\\\\transformer mpc\\\\dati_orderbook\\\\orderbook_changes_BTCUSD\\\\orderbook_changes_1705074061033.tsv'\n",
    "\n",
    "def get_orderbook_df(path: str) -> pd.DataFrame:\n",
    "    return pd.read_csv(path, sep='\\t')"
   ]
  },
  {
   "cell_type": "code",
   "execution_count": 2,
   "metadata": {},
   "outputs": [
    {
     "data": {
      "text/plain": [
       "{<LOBEventType.BID_MARKET_ORDER_NOT_CHANGER: 11>: array([1705070761067, 1705070761978, 1705070762929, ..., 1705074056289,\n",
       "        1705074057176, 1705074059665], dtype=int64),\n",
       " <LOBEventType.ASK_MARKET_ORDER_NOT_CHANGER: 12>: array([1705070761067, 1705070761978, 1705070762457, ..., 1705074060115,\n",
       "        1705074060592, 1705074060812], dtype=int64),\n",
       " <LOBEventType.ASK_LIMIT_ORDER_NOT_CHANGER: 8>: array([1705070761299, 1705070761299, 1705070761526, ..., 1705074060592,\n",
       "        1705074060592, 1705074060812], dtype=int64),\n",
       " <LOBEventType.ASK_CANCELLED_ORDER_NOT_CHANGER: 16>: array([1705070761299, 1705070761526, 1705070761753, ..., 1705074060326,\n",
       "        1705074060592, 1705074060812], dtype=int64),\n",
       " <LOBEventType.BID_LIMIT_ORDER_NOT_CHANGER: 7>: array([1705070761526, 1705070762223, 1705070762457, ..., 1705074060591,\n",
       "        1705074060591, 1705074060812], dtype=int64),\n",
       " <LOBEventType.BID_LIMIT_ORDER_CHANGER: 5>: array([1705070763398, 1705070763629, 1705070764355, ..., 1705074059666,\n",
       "        1705074060115, 1705074060812], dtype=int64),\n",
       " <LOBEventType.ASK_MARKET_ORDER_CHANGER: 10>: array([1705070763398, 1705070763629, 1705070763867, ..., 1705074059666,\n",
       "        1705074060115, 1705074060812], dtype=int64),\n",
       " <LOBEventType.BID_CANCELLED_ORDER_NOT_CHANGER: 15>: array([1705070763629, 1705070763629, 1705070763867, ..., 1705074060591,\n",
       "        1705074060812, 1705074060812], dtype=int64),\n",
       " <LOBEventType.ASK_LIMIT_ORDER_CHANGER: 6>: array([1705070763630, 1705070764117, 1705070764603, ..., 1705074056968,\n",
       "        1705074057399, 1705074058530], dtype=int64),\n",
       " <LOBEventType.BID_MARKET_ORDER_CHANGER: 9>: array([1705070763867, 1705070764117, 1705070765323, ..., 1705074059665,\n",
       "        1705074060114, 1705074061033], dtype=int64)}"
      ]
     },
     "execution_count": 2,
     "metadata": {},
     "output_type": "execute_result"
    }
   ],
   "source": [
    "lob_df = get_orderbook_df(LOB_DF_PATH)\n",
    "lob_type_event_indicator = LOBEventTypeIndicator(\n",
    "    lob_df, num_levels_in_a_side, num_levels_for_which_save_events\n",
    ")\n",
    "event_type_times_map = lob_type_event_indicator.get_lob_event_type_times_map()\n",
    "event_type_times_map"
   ]
  },
  {
   "cell_type": "code",
   "execution_count": 5,
   "metadata": {},
   "outputs": [
    {
     "data": {
      "text/plain": [
       "{'BID_MARKET_ORDER_NOT_CHANGER': array([1705070761067, 1705070761978, 1705070762929, ..., 1705074056289,\n",
       "        1705074057176, 1705074059665], dtype=int64),\n",
       " 'ASK_MARKET_ORDER_NOT_CHANGER': array([1705070761067, 1705070761978, 1705070762457, ..., 1705074060115,\n",
       "        1705074060592, 1705074060812], dtype=int64),\n",
       " 'ASK_LIMIT_ORDER_NOT_CHANGER': array([1705070761299, 1705070761299, 1705070761526, ..., 1705074060592,\n",
       "        1705074060592, 1705074060812], dtype=int64),\n",
       " 'ASK_CANCELLED_ORDER_NOT_CHANGER': array([1705070761299, 1705070761526, 1705070761753, ..., 1705074060326,\n",
       "        1705074060592, 1705074060812], dtype=int64),\n",
       " 'BID_LIMIT_ORDER_NOT_CHANGER': array([1705070761526, 1705070762223, 1705070762457, ..., 1705074060591,\n",
       "        1705074060591, 1705074060812], dtype=int64),\n",
       " 'BID_LIMIT_ORDER_CHANGER': array([1705070763398, 1705070763629, 1705070764355, ..., 1705074059666,\n",
       "        1705074060115, 1705074060812], dtype=int64),\n",
       " 'ASK_MARKET_ORDER_CHANGER': array([1705070763398, 1705070763629, 1705070763867, ..., 1705074059666,\n",
       "        1705074060115, 1705074060812], dtype=int64),\n",
       " 'BID_CANCELLED_ORDER_NOT_CHANGER': array([1705070763629, 1705070763629, 1705070763867, ..., 1705074060591,\n",
       "        1705074060812, 1705074060812], dtype=int64),\n",
       " 'ASK_LIMIT_ORDER_CHANGER': array([1705070763630, 1705070764117, 1705070764603, ..., 1705074056968,\n",
       "        1705074057399, 1705074058530], dtype=int64),\n",
       " 'BID_MARKET_ORDER_CHANGER': array([1705070763867, 1705070764117, 1705070765323, ..., 1705074059665,\n",
       "        1705074060114, 1705074061033], dtype=int64)}"
      ]
     },
     "execution_count": 5,
     "metadata": {},
     "output_type": "execute_result"
    }
   ],
   "source": [
    "event_type_times_map = {k.name: v for k, v in event_type_times_map.items()}\n",
    "event_type_times_map"
   ]
  },
  {
   "cell_type": "code",
   "execution_count": 6,
   "metadata": {},
   "outputs": [],
   "source": [
    "import pickle\n",
    "\n",
    "with open('C:\\\\Users\\\\Admin\\\\Desktop\\\\phd\\\\multivariate_hawkes\\\\data\\\\multivariate_attempts\\\\btc_usd_event_type_times_map.pkl', 'wb') as file:\n",
    "    pickle.dump(event_type_times_map, file)\n"
   ]
  }
 ],
 "metadata": {
  "kernelspec": {
   "display_name": "hawkes",
   "language": "python",
   "name": "python3"
  },
  "language_info": {
   "codemirror_mode": {
    "name": "ipython",
    "version": 3
   },
   "file_extension": ".py",
   "mimetype": "text/x-python",
   "name": "python",
   "nbconvert_exporter": "python",
   "pygments_lexer": "ipython3",
   "version": "3.12.3"
  }
 },
 "nbformat": 4,
 "nbformat_minor": 2
}
