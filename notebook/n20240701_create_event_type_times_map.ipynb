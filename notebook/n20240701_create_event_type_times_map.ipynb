{
 "cells": [
  {
   "cell_type": "code",
   "execution_count": 1,
   "metadata": {},
   "outputs": [],
   "source": [
    "import pandas as pd\n",
    "import os\n",
    "\n",
    "os.chdir('C:\\\\Users\\\\Admin\\\\Desktop\\\\phd\\\\multivariate_hawkes\\\\src')\n",
    "\n",
    "from lob_event_type_indicator import LOBEventTypeIndicator\n",
    "from lob_event_type import LOBEventType\n",
    "num_levels_in_a_side = 10\n",
    "num_levels_for_which_save_events = 4\n",
    "\n",
    "LOB_DF_PATH = 'C:\\\\Users\\\\Admin\\\\OneDrive - Politecnico di Milano\\\\transformer mpc\\\\dati_orderbook\\\\orderbook_changes_BTCUSD\\\\orderbook_changes_1705074061033.tsv'\n",
    "\n",
    "def get_orderbook_df(path: str) -> pd.DataFrame:\n",
    "    return pd.read_csv(path, sep='\\t')"
   ]
  },
  {
   "cell_type": "code",
   "execution_count": 2,
   "metadata": {},
   "outputs": [
    {
     "ename": "KeyboardInterrupt",
     "evalue": "",
     "output_type": "error",
     "traceback": [
      "\u001b[1;31m---------------------------------------------------------------------------\u001b[0m",
      "\u001b[1;31mKeyboardInterrupt\u001b[0m                         Traceback (most recent call last)",
      "Cell \u001b[1;32mIn[2], line 5\u001b[0m\n\u001b[0;32m      1\u001b[0m lob_df \u001b[38;5;241m=\u001b[39m get_orderbook_df(LOB_DF_PATH)\n\u001b[0;32m      2\u001b[0m lob_type_event_indicator \u001b[38;5;241m=\u001b[39m LOBEventTypeIndicator(\n\u001b[0;32m      3\u001b[0m     lob_df, num_levels_in_a_side, num_levels_for_which_save_events\n\u001b[0;32m      4\u001b[0m )\n\u001b[1;32m----> 5\u001b[0m event_type_times_map \u001b[38;5;241m=\u001b[39m \u001b[43mlob_type_event_indicator\u001b[49m\u001b[38;5;241;43m.\u001b[39;49m\u001b[43mget_lob_event_type_times_map\u001b[49m\u001b[43m(\u001b[49m\u001b[43m)\u001b[49m\n\u001b[0;32m      6\u001b[0m event_type_times_map\n",
      "File \u001b[1;32m~\\Desktop\\phd\\multivariate_hawkes\\src\\lob_event_type_indicator.py:37\u001b[0m, in \u001b[0;36mLOBEventTypeIndicator.get_lob_event_type_times_map\u001b[1;34m(self)\u001b[0m\n\u001b[0;32m     33\u001b[0m lob_snapshot_iterator \u001b[38;5;241m=\u001b[39m \u001b[38;5;28mself\u001b[39m\u001b[38;5;241m.\u001b[39m_lob_snapshot_factory\u001b[38;5;241m.\u001b[39mget_lob_snapshots_iterator()\n\u001b[0;32m     35\u001b[0m prev_lob_snapshot \u001b[38;5;241m=\u001b[39m \u001b[38;5;28mnext\u001b[39m(lob_snapshot_iterator)\n\u001b[1;32m---> 37\u001b[0m \u001b[43m\u001b[49m\u001b[38;5;28;43;01mfor\u001b[39;49;00m\u001b[43m \u001b[49m\u001b[43mcurr_lob_snapshot\u001b[49m\u001b[43m \u001b[49m\u001b[38;5;129;43;01min\u001b[39;49;00m\u001b[43m \u001b[49m\u001b[43mlob_snapshot_iterator\u001b[49m\u001b[43m:\u001b[49m\n\u001b[0;32m     38\u001b[0m \u001b[43m    \u001b[49m\u001b[43mlob_event_types_container\u001b[49m\u001b[43m \u001b[49m\u001b[38;5;241;43m=\u001b[39;49m\u001b[43m \u001b[49m\u001b[43m(\u001b[49m\n\u001b[0;32m     39\u001b[0m \u001b[43m        \u001b[49m\u001b[38;5;28;43mself\u001b[39;49m\u001b[38;5;241;43m.\u001b[39;49m\u001b[43m_lob_event_type_reconstructor\u001b[49m\u001b[38;5;241;43m.\u001b[39;49m\u001b[43mget_happened_event\u001b[49m\u001b[43m(\u001b[49m\n\u001b[0;32m     40\u001b[0m \u001b[43m            \u001b[49m\u001b[43mprev_lob_snapshot\u001b[49m\u001b[43m,\u001b[49m\u001b[43m \u001b[49m\u001b[43mcurr_lob_snapshot\u001b[49m\n\u001b[0;32m     41\u001b[0m \u001b[43m        \u001b[49m\u001b[43m)\u001b[49m\n\u001b[0;32m     42\u001b[0m \u001b[43m    \u001b[49m\u001b[43m)\u001b[49m\n\u001b[0;32m     44\u001b[0m \u001b[43m    \u001b[49m\u001b[38;5;28;43mself\u001b[39;49m\u001b[38;5;241;43m.\u001b[39;49m\u001b[43m_update_event_type_times_map\u001b[49m\u001b[43m(\u001b[49m\n\u001b[0;32m     45\u001b[0m \u001b[43m        \u001b[49m\u001b[43mevent_type_times_map\u001b[49m\u001b[43m,\u001b[49m\n\u001b[0;32m     46\u001b[0m \u001b[43m        \u001b[49m\u001b[43mlob_event_types_container\u001b[49m\u001b[38;5;241;43m.\u001b[39;49m\u001b[43mprice_bid_event_map\u001b[49m\u001b[43m,\u001b[49m\n\u001b[0;32m     47\u001b[0m \u001b[43m        \u001b[49m\u001b[43mlob_event_types_container\u001b[49m\u001b[38;5;241;43m.\u001b[39;49m\u001b[43mcurr_timestamp\u001b[49m\u001b[43m,\u001b[49m\n\u001b[0;32m     48\u001b[0m \u001b[43m    \u001b[49m\u001b[43m)\u001b[49m\n",
      "File \u001b[1;32m~\\Desktop\\phd\\multivariate_hawkes\\src\\lob_snapshot.py:62\u001b[0m, in \u001b[0;36mLOBSnapshotFactory.get_lob_snapshots_iterator\u001b[1;34m(self)\u001b[0m\n\u001b[0;32m     60\u001b[0m \u001b[38;5;28;01mdef\u001b[39;00m \u001b[38;5;21mget_lob_snapshots_iterator\u001b[39m(\u001b[38;5;28mself\u001b[39m) \u001b[38;5;241m-\u001b[39m\u001b[38;5;241m>\u001b[39m Iterator[LOBSnapshot]:\n\u001b[0;32m     61\u001b[0m     \u001b[38;5;28;01mfor\u001b[39;00m i, row \u001b[38;5;129;01min\u001b[39;00m \u001b[38;5;28mself\u001b[39m\u001b[38;5;241m.\u001b[39m_lob_dataframe\u001b[38;5;241m.\u001b[39miterrows():\n\u001b[1;32m---> 62\u001b[0m         \u001b[38;5;28;01myield\u001b[39;00m \u001b[38;5;28;43mself\u001b[39;49m\u001b[38;5;241;43m.\u001b[39;49m\u001b[43mget_lob_snapshot_from_lob_dataframe_row\u001b[49m\u001b[43m(\u001b[49m\u001b[43mrow\u001b[49m\u001b[43m)\u001b[49m\n",
      "File \u001b[1;32m~\\Desktop\\phd\\multivariate_hawkes\\src\\lob_snapshot.py:77\u001b[0m, in \u001b[0;36mLOBSnapshotFactory.get_lob_snapshot_from_lob_dataframe_row\u001b[1;34m(self, row)\u001b[0m\n\u001b[0;32m     71\u001b[0m bid_levels \u001b[38;5;241m=\u001b[39m \u001b[38;5;28mself\u001b[39m\u001b[38;5;241m.\u001b[39m_get_side_orderbook_levels(bid_row, \u001b[38;5;28;01mTrue\u001b[39;00m)\n\u001b[0;32m     73\u001b[0m ask_row \u001b[38;5;241m=\u001b[39m row[\n\u001b[0;32m     74\u001b[0m     (row\u001b[38;5;241m.\u001b[39mindex\u001b[38;5;241m.\u001b[39mstr\u001b[38;5;241m.\u001b[39mstartswith(\u001b[38;5;28mself\u001b[39m\u001b[38;5;241m.\u001b[39mASK_PRICE_COLUMN_PREFIX))\n\u001b[0;32m     75\u001b[0m     \u001b[38;5;241m|\u001b[39m (row\u001b[38;5;241m.\u001b[39mindex\u001b[38;5;241m.\u001b[39mstr\u001b[38;5;241m.\u001b[39mstartswith(\u001b[38;5;28mself\u001b[39m\u001b[38;5;241m.\u001b[39mASK_SIZE_COLUMN_PREFIX))\n\u001b[0;32m     76\u001b[0m ]\n\u001b[1;32m---> 77\u001b[0m ask_levels \u001b[38;5;241m=\u001b[39m \u001b[38;5;28;43mself\u001b[39;49m\u001b[38;5;241;43m.\u001b[39;49m\u001b[43m_get_side_orderbook_levels\u001b[49m\u001b[43m(\u001b[49m\u001b[43mask_row\u001b[49m\u001b[43m,\u001b[49m\u001b[43m \u001b[49m\u001b[38;5;28;43;01mFalse\u001b[39;49;00m\u001b[43m)\u001b[49m\n\u001b[0;32m     79\u001b[0m \u001b[38;5;28;01mreturn\u001b[39;00m LOBSnapshot(timestamp, bid_levels, ask_levels)\n",
      "File \u001b[1;32m~\\Desktop\\phd\\multivariate_hawkes\\src\\lob_snapshot.py:94\u001b[0m, in \u001b[0;36mLOBSnapshotFactory._get_side_orderbook_levels\u001b[1;34m(self, row, is_bid)\u001b[0m\n\u001b[0;32m     92\u001b[0m \u001b[38;5;28;01mfor\u001b[39;00m i \u001b[38;5;129;01min\u001b[39;00m \u001b[38;5;28mrange\u001b[39m(\u001b[38;5;241m1\u001b[39m, \u001b[38;5;28mself\u001b[39m\u001b[38;5;241m.\u001b[39m_num_levels_in_a_side \u001b[38;5;241m+\u001b[39m \u001b[38;5;241m1\u001b[39m):\n\u001b[0;32m     93\u001b[0m     price \u001b[38;5;241m=\u001b[39m Decimal(row[price_column_prefix \u001b[38;5;241m+\u001b[39m \u001b[38;5;28mstr\u001b[39m(i)])\n\u001b[1;32m---> 94\u001b[0m     size \u001b[38;5;241m=\u001b[39m Decimal(row[size_column_prefix \u001b[38;5;241m+\u001b[39m \u001b[38;5;28;43mstr\u001b[39;49m\u001b[43m(\u001b[49m\u001b[43mi\u001b[49m\u001b[43m)\u001b[49m])\n\u001b[0;32m     96\u001b[0m     \u001b[38;5;28;01mif\u001b[39;00m price\u001b[38;5;241m.\u001b[39mis_nan() \u001b[38;5;129;01mor\u001b[39;00m size\u001b[38;5;241m.\u001b[39mis_nan():\n\u001b[0;32m     97\u001b[0m         \u001b[38;5;28;01mreturn\u001b[39;00m orderbook_levels\n",
      "\u001b[1;31mKeyboardInterrupt\u001b[0m: "
     ]
    }
   ],
   "source": [
    "lob_df = get_orderbook_df(LOB_DF_PATH)\n",
    "lob_type_event_indicator = LOBEventTypeIndicator(\n",
    "    lob_df, num_levels_in_a_side, num_levels_for_which_save_events\n",
    ")\n",
    "event_type_times_map = lob_type_event_indicator.get_lob_event_type_times_map()\n",
    "event_type_times_map"
   ]
  },
  {
   "cell_type": "code",
   "execution_count": 5,
   "metadata": {},
   "outputs": [
    {
     "data": {
      "text/plain": [
       "{'BID_MARKET_ORDER_NOT_CHANGER': array([1705070761067, 1705070761978, 1705070762929, ..., 1705074056289,\n",
       "        1705074057176, 1705074059665], dtype=int64),\n",
       " 'ASK_MARKET_ORDER_NOT_CHANGER': array([1705070761067, 1705070761978, 1705070762457, ..., 1705074060115,\n",
       "        1705074060592, 1705074060812], dtype=int64),\n",
       " 'ASK_LIMIT_ORDER_NOT_CHANGER': array([1705070761299, 1705070761299, 1705070761526, ..., 1705074060592,\n",
       "        1705074060592, 1705074060812], dtype=int64),\n",
       " 'ASK_CANCELLED_ORDER_NOT_CHANGER': array([1705070761299, 1705070761526, 1705070761753, ..., 1705074060326,\n",
       "        1705074060592, 1705074060812], dtype=int64),\n",
       " 'BID_LIMIT_ORDER_NOT_CHANGER': array([1705070761526, 1705070762223, 1705070762457, ..., 1705074060591,\n",
       "        1705074060591, 1705074060812], dtype=int64),\n",
       " 'BID_LIMIT_ORDER_CHANGER': array([1705070763398, 1705070763629, 1705070764355, ..., 1705074059666,\n",
       "        1705074060115, 1705074060812], dtype=int64),\n",
       " 'ASK_MARKET_ORDER_CHANGER': array([1705070763398, 1705070763629, 1705070763867, ..., 1705074059666,\n",
       "        1705074060115, 1705074060812], dtype=int64),\n",
       " 'BID_CANCELLED_ORDER_NOT_CHANGER': array([1705070763629, 1705070763629, 1705070763867, ..., 1705074060591,\n",
       "        1705074060812, 1705074060812], dtype=int64),\n",
       " 'ASK_LIMIT_ORDER_CHANGER': array([1705070763630, 1705070764117, 1705070764603, ..., 1705074056968,\n",
       "        1705074057399, 1705074058530], dtype=int64),\n",
       " 'BID_MARKET_ORDER_CHANGER': array([1705070763867, 1705070764117, 1705070765323, ..., 1705074059665,\n",
       "        1705074060114, 1705074061033], dtype=int64)}"
      ]
     },
     "execution_count": 5,
     "metadata": {},
     "output_type": "execute_result"
    }
   ],
   "source": [
    "event_type_times_map = {k.name: v for k, v in event_type_times_map.items()}\n",
    "event_type_times_map"
   ]
  },
  {
   "cell_type": "code",
   "execution_count": 6,
   "metadata": {},
   "outputs": [],
   "source": [
    "import pickle\n",
    "\n",
    "with open('C:\\\\Users\\\\Admin\\\\Desktop\\\\phd\\\\multivariate_hawkes\\\\data\\\\multivariate_attempts\\\\btc_usd_event_type_times_map.pkl', 'wb') as file:\n",
    "    pickle.dump(event_type_times_map, file)\n"
   ]
  },
  {
   "cell_type": "code",
   "execution_count": 4,
   "metadata": {},
   "outputs": [
    {
     "data": {
      "text/plain": [
       "3300199"
      ]
     },
     "execution_count": 4,
     "metadata": {},
     "output_type": "execute_result"
    }
   ],
   "source": [
    "lob_df['Timestamp'].max() - lob_df['Timestamp'].min()"
   ]
  }
 ],
 "metadata": {
  "kernelspec": {
   "display_name": "hawkes",
   "language": "python",
   "name": "python3"
  },
  "language_info": {
   "codemirror_mode": {
    "name": "ipython",
    "version": 3
   },
   "file_extension": ".py",
   "mimetype": "text/x-python",
   "name": "python",
   "nbconvert_exporter": "python",
   "pygments_lexer": "ipython3",
   "version": "3.12.3"
  }
 },
 "nbformat": 4,
 "nbformat_minor": 2
}
